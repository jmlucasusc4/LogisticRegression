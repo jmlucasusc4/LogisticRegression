{
  "nbformat": 4,
  "nbformat_minor": 0,
  "metadata": {
    "colab": {
      "name": "Bank_Logistic_RegressionProject.ipynb",
      "provenance": [],
      "authorship_tag": "ABX9TyN72/NyTYZ9dZFhdMxGQV4a",
      "include_colab_link": true
    },
    "kernelspec": {
      "name": "python3",
      "display_name": "Python 3"
    },
    "language_info": {
      "name": "python"
    }
  },
  "cells": [
    {
      "cell_type": "markdown",
      "metadata": {
        "id": "view-in-github",
        "colab_type": "text"
      },
      "source": [
        "<a href=\"https://colab.research.google.com/github/jmlucasusc4/LogisticRegression/blob/main/Bank_Logistic_RegressionProject.ipynb\" target=\"_parent\"><img src=\"https://colab.research.google.com/assets/colab-badge.svg\" alt=\"Open In Colab\"/></a>"
      ]
    },
    {
      "cell_type": "markdown",
      "metadata": {
        "id": "c4HBYup5BXou"
      },
      "source": [
        "##Section 1"
      ]
    },
    {
      "cell_type": "markdown",
      "metadata": {
        "id": "6lK11cOwAqC3"
      },
      "source": [
        "**Import the Libraries**"
      ]
    },
    {
      "cell_type": "code",
      "metadata": {
        "colab": {
          "base_uri": "https://localhost:8080/",
          "height": 261
        },
        "id": "eHDwZFWx-pc2",
        "outputId": "aa6294b5-9972-4a11-ef8f-7ea319237cee"
      },
      "source": [
        "import pandas as pd\n",
        "import matplotlib.pyplot as plt\n",
        "import seaborn as sns\n",
        "\n",
        "data= pd.read_csv('/content/portu_banking_final.csv')\n",
        "data.head()"
      ],
      "execution_count": 86,
      "outputs": [
        {
          "output_type": "stream",
          "name": "stderr",
          "text": [
            "/usr/local/lib/python3.7/dist-packages/IPython/core/interactiveshell.py:2718: DtypeWarning: Columns (0) have mixed types.Specify dtype option on import or set low_memory=False.\n",
            "  interactivity=interactivity, compiler=compiler, result=result)\n"
          ]
        },
        {
          "output_type": "execute_result",
          "data": {
            "text/html": [
              "<div>\n",
              "<style scoped>\n",
              "    .dataframe tbody tr th:only-of-type {\n",
              "        vertical-align: middle;\n",
              "    }\n",
              "\n",
              "    .dataframe tbody tr th {\n",
              "        vertical-align: top;\n",
              "    }\n",
              "\n",
              "    .dataframe thead th {\n",
              "        text-align: right;\n",
              "    }\n",
              "</style>\n",
              "<table border=\"1\" class=\"dataframe\">\n",
              "  <thead>\n",
              "    <tr style=\"text-align: right;\">\n",
              "      <th></th>\n",
              "      <th>age</th>\n",
              "      <th>job</th>\n",
              "      <th>marital</th>\n",
              "      <th>education</th>\n",
              "      <th>default</th>\n",
              "      <th>housing</th>\n",
              "      <th>loan</th>\n",
              "      <th>contact</th>\n",
              "      <th>month</th>\n",
              "      <th>day_of_week</th>\n",
              "      <th>duration</th>\n",
              "      <th>campaign</th>\n",
              "      <th>pdays</th>\n",
              "      <th>previous</th>\n",
              "      <th>poutcome</th>\n",
              "      <th>emp_var_rate</th>\n",
              "      <th>cons_price_idx</th>\n",
              "      <th>cons_conf_idx</th>\n",
              "      <th>euribor3m</th>\n",
              "      <th>nr_employed</th>\n",
              "      <th>y</th>\n",
              "    </tr>\n",
              "  </thead>\n",
              "  <tbody>\n",
              "    <tr>\n",
              "      <th>0</th>\n",
              "      <td>44</td>\n",
              "      <td>blue-collar</td>\n",
              "      <td>married</td>\n",
              "      <td>basic.4y</td>\n",
              "      <td>unknown</td>\n",
              "      <td>yes</td>\n",
              "      <td>no</td>\n",
              "      <td>cellular</td>\n",
              "      <td>aug</td>\n",
              "      <td>thu</td>\n",
              "      <td>210</td>\n",
              "      <td>1</td>\n",
              "      <td>999.0</td>\n",
              "      <td>0</td>\n",
              "      <td>nonexistent</td>\n",
              "      <td>1.4</td>\n",
              "      <td>93.444</td>\n",
              "      <td>-36.1</td>\n",
              "      <td>4.963</td>\n",
              "      <td>5228.1</td>\n",
              "      <td>0</td>\n",
              "    </tr>\n",
              "    <tr>\n",
              "      <th>1</th>\n",
              "      <td>53</td>\n",
              "      <td>technician</td>\n",
              "      <td>married</td>\n",
              "      <td>unknown</td>\n",
              "      <td>no</td>\n",
              "      <td>no</td>\n",
              "      <td>no</td>\n",
              "      <td>cellular</td>\n",
              "      <td>nov</td>\n",
              "      <td>fri</td>\n",
              "      <td>138</td>\n",
              "      <td>1</td>\n",
              "      <td>999.0</td>\n",
              "      <td>0</td>\n",
              "      <td>nonexistent</td>\n",
              "      <td>-0.1</td>\n",
              "      <td>93.200</td>\n",
              "      <td>-42.0</td>\n",
              "      <td>4.021</td>\n",
              "      <td>5195.8</td>\n",
              "      <td>0</td>\n",
              "    </tr>\n",
              "    <tr>\n",
              "      <th>2</th>\n",
              "      <td>28</td>\n",
              "      <td>management</td>\n",
              "      <td>single</td>\n",
              "      <td>university.degree</td>\n",
              "      <td>no</td>\n",
              "      <td>yes</td>\n",
              "      <td>no</td>\n",
              "      <td>cellular</td>\n",
              "      <td>jun</td>\n",
              "      <td>thu</td>\n",
              "      <td>339</td>\n",
              "      <td>3</td>\n",
              "      <td>6.0</td>\n",
              "      <td>2</td>\n",
              "      <td>success</td>\n",
              "      <td>-1.7</td>\n",
              "      <td>94.055</td>\n",
              "      <td>-39.8</td>\n",
              "      <td>0.729</td>\n",
              "      <td>4991.6</td>\n",
              "      <td>1</td>\n",
              "    </tr>\n",
              "    <tr>\n",
              "      <th>3</th>\n",
              "      <td>39</td>\n",
              "      <td>services</td>\n",
              "      <td>married</td>\n",
              "      <td>high.school</td>\n",
              "      <td>no</td>\n",
              "      <td>no</td>\n",
              "      <td>no</td>\n",
              "      <td>cellular</td>\n",
              "      <td>apr</td>\n",
              "      <td>fri</td>\n",
              "      <td>185</td>\n",
              "      <td>2</td>\n",
              "      <td>999.0</td>\n",
              "      <td>0</td>\n",
              "      <td>nonexistent</td>\n",
              "      <td>-1.8</td>\n",
              "      <td>93.075</td>\n",
              "      <td>-47.1</td>\n",
              "      <td>1.405</td>\n",
              "      <td>5099.1</td>\n",
              "      <td>0</td>\n",
              "    </tr>\n",
              "    <tr>\n",
              "      <th>4</th>\n",
              "      <td>55</td>\n",
              "      <td>retired</td>\n",
              "      <td>married</td>\n",
              "      <td>basic.4y</td>\n",
              "      <td>no</td>\n",
              "      <td>yes</td>\n",
              "      <td>no</td>\n",
              "      <td>cellular</td>\n",
              "      <td>aug</td>\n",
              "      <td>fri</td>\n",
              "      <td>137</td>\n",
              "      <td>1</td>\n",
              "      <td>3.0</td>\n",
              "      <td>1</td>\n",
              "      <td>success</td>\n",
              "      <td>-2.9</td>\n",
              "      <td>92.201</td>\n",
              "      <td>-31.4</td>\n",
              "      <td>0.869</td>\n",
              "      <td>5076.2</td>\n",
              "      <td>1</td>\n",
              "    </tr>\n",
              "  </tbody>\n",
              "</table>\n",
              "</div>"
            ],
            "text/plain": [
              "  age          job  marital  ... euribor3m nr_employed  y\n",
              "0  44  blue-collar  married  ...     4.963      5228.1  0\n",
              "1  53   technician  married  ...     4.021      5195.8  0\n",
              "2  28   management   single  ...     0.729      4991.6  1\n",
              "3  39     services  married  ...     1.405      5099.1  0\n",
              "4  55      retired  married  ...     0.869      5076.2  1\n",
              "\n",
              "[5 rows x 21 columns]"
            ]
          },
          "metadata": {},
          "execution_count": 86
        }
      ]
    },
    {
      "cell_type": "code",
      "metadata": {
        "id": "pC6alAqXBGDs"
      },
      "source": [
        "#What is the significance of the y column in the dataset and what are the value counts of the y column?"
      ],
      "execution_count": 87,
      "outputs": []
    },
    {
      "cell_type": "code",
      "metadata": {
        "colab": {
          "base_uri": "https://localhost:8080/",
          "height": 226
        },
        "id": "IUv5KRvQOuvd",
        "outputId": "11497f46-6c30-4434-ad21-409c2630c9c4"
      },
      "source": [
        "data.tail()"
      ],
      "execution_count": 88,
      "outputs": [
        {
          "output_type": "execute_result",
          "data": {
            "text/html": [
              "<div>\n",
              "<style scoped>\n",
              "    .dataframe tbody tr th:only-of-type {\n",
              "        vertical-align: middle;\n",
              "    }\n",
              "\n",
              "    .dataframe tbody tr th {\n",
              "        vertical-align: top;\n",
              "    }\n",
              "\n",
              "    .dataframe thead th {\n",
              "        text-align: right;\n",
              "    }\n",
              "</style>\n",
              "<table border=\"1\" class=\"dataframe\">\n",
              "  <thead>\n",
              "    <tr style=\"text-align: right;\">\n",
              "      <th></th>\n",
              "      <th>age</th>\n",
              "      <th>job</th>\n",
              "      <th>marital</th>\n",
              "      <th>education</th>\n",
              "      <th>default</th>\n",
              "      <th>housing</th>\n",
              "      <th>loan</th>\n",
              "      <th>contact</th>\n",
              "      <th>month</th>\n",
              "      <th>day_of_week</th>\n",
              "      <th>duration</th>\n",
              "      <th>campaign</th>\n",
              "      <th>pdays</th>\n",
              "      <th>previous</th>\n",
              "      <th>poutcome</th>\n",
              "      <th>emp_var_rate</th>\n",
              "      <th>cons_price_idx</th>\n",
              "      <th>cons_conf_idx</th>\n",
              "      <th>euribor3m</th>\n",
              "      <th>nr_employed</th>\n",
              "      <th>y</th>\n",
              "    </tr>\n",
              "  </thead>\n",
              "  <tbody>\n",
              "    <tr>\n",
              "      <th>41183</th>\n",
              "      <td>59</td>\n",
              "      <td>retired</td>\n",
              "      <td>married</td>\n",
              "      <td>high.school</td>\n",
              "      <td>unknown</td>\n",
              "      <td>no</td>\n",
              "      <td>yes</td>\n",
              "      <td>telephone</td>\n",
              "      <td>jun</td>\n",
              "      <td>thu</td>\n",
              "      <td>222</td>\n",
              "      <td>1</td>\n",
              "      <td>999.0</td>\n",
              "      <td>0</td>\n",
              "      <td>nonexistent</td>\n",
              "      <td>1.4</td>\n",
              "      <td>94.465</td>\n",
              "      <td>-41.8</td>\n",
              "      <td>4.866</td>\n",
              "      <td>5228.1</td>\n",
              "      <td>0</td>\n",
              "    </tr>\n",
              "    <tr>\n",
              "      <th>41184</th>\n",
              "      <td>31</td>\n",
              "      <td>housemaid</td>\n",
              "      <td>married</td>\n",
              "      <td>basic.4y</td>\n",
              "      <td>unknown</td>\n",
              "      <td>no</td>\n",
              "      <td>no</td>\n",
              "      <td>telephone</td>\n",
              "      <td>may</td>\n",
              "      <td>thu</td>\n",
              "      <td>196</td>\n",
              "      <td>2</td>\n",
              "      <td>999.0</td>\n",
              "      <td>0</td>\n",
              "      <td>nonexistent</td>\n",
              "      <td>1.1</td>\n",
              "      <td>93.994</td>\n",
              "      <td>-36.4</td>\n",
              "      <td>4.860</td>\n",
              "      <td>5191.0</td>\n",
              "      <td>0</td>\n",
              "    </tr>\n",
              "    <tr>\n",
              "      <th>41185</th>\n",
              "      <td>42</td>\n",
              "      <td>admin.</td>\n",
              "      <td>single</td>\n",
              "      <td>university.degree</td>\n",
              "      <td>unknown</td>\n",
              "      <td>yes</td>\n",
              "      <td>yes</td>\n",
              "      <td>telephone</td>\n",
              "      <td>may</td>\n",
              "      <td>wed</td>\n",
              "      <td>62</td>\n",
              "      <td>3</td>\n",
              "      <td>999.0</td>\n",
              "      <td>0</td>\n",
              "      <td>nonexistent</td>\n",
              "      <td>1.1</td>\n",
              "      <td>93.994</td>\n",
              "      <td>-36.4</td>\n",
              "      <td>4.857</td>\n",
              "      <td>5191.0</td>\n",
              "      <td>0</td>\n",
              "    </tr>\n",
              "    <tr>\n",
              "      <th>41186</th>\n",
              "      <td>48</td>\n",
              "      <td>technician</td>\n",
              "      <td>married</td>\n",
              "      <td>professional.course</td>\n",
              "      <td>no</td>\n",
              "      <td>no</td>\n",
              "      <td>yes</td>\n",
              "      <td>telephone</td>\n",
              "      <td>oct</td>\n",
              "      <td>tue</td>\n",
              "      <td>200</td>\n",
              "      <td>2</td>\n",
              "      <td>999.0</td>\n",
              "      <td>0</td>\n",
              "      <td>nonexistent</td>\n",
              "      <td>-3.4</td>\n",
              "      <td>92.431</td>\n",
              "      <td>-26.9</td>\n",
              "      <td>0.742</td>\n",
              "      <td>5017.5</td>\n",
              "      <td>0</td>\n",
              "    </tr>\n",
              "    <tr>\n",
              "      <th>41187</th>\n",
              "      <td>25</td>\n",
              "      <td>student</td>\n",
              "      <td>single</td>\n",
              "      <td>high.school</td>\n",
              "      <td>no</td>\n",
              "      <td>no</td>\n",
              "      <td>no</td>\n",
              "      <td>telephone</td>\n",
              "      <td>may</td>\n",
              "      <td>fri</td>\n",
              "      <td>112</td>\n",
              "      <td>4</td>\n",
              "      <td>999.0</td>\n",
              "      <td>0</td>\n",
              "      <td>nonexistent</td>\n",
              "      <td>1.1</td>\n",
              "      <td>93.994</td>\n",
              "      <td>-36.4</td>\n",
              "      <td>4.859</td>\n",
              "      <td>5191.0</td>\n",
              "      <td>0</td>\n",
              "    </tr>\n",
              "  </tbody>\n",
              "</table>\n",
              "</div>"
            ],
            "text/plain": [
              "      age         job  marital  ... euribor3m nr_employed  y\n",
              "41183  59     retired  married  ...     4.866      5228.1  0\n",
              "41184  31   housemaid  married  ...     4.860      5191.0  0\n",
              "41185  42      admin.   single  ...     4.857      5191.0  0\n",
              "41186  48  technician  married  ...     0.742      5017.5  0\n",
              "41187  25     student   single  ...     4.859      5191.0  0\n",
              "\n",
              "[5 rows x 21 columns]"
            ]
          },
          "metadata": {},
          "execution_count": 88
        }
      ]
    },
    {
      "cell_type": "code",
      "metadata": {
        "id": "zrk1cNVYBS5u"
      },
      "source": [
        "#Part IV : What is the ratio of the two classes ? Are they balanced ?"
      ],
      "execution_count": 89,
      "outputs": []
    },
    {
      "cell_type": "code",
      "metadata": {
        "colab": {
          "base_uri": "https://localhost:8080/",
          "height": 351
        },
        "id": "mjN1e2llBWio",
        "outputId": "b21c98e5-9adc-4762-877e-70fdc8487161"
      },
      "source": [
        "sns.countplot(data['y'])"
      ],
      "execution_count": 90,
      "outputs": [
        {
          "output_type": "stream",
          "name": "stderr",
          "text": [
            "/usr/local/lib/python3.7/dist-packages/seaborn/_decorators.py:43: FutureWarning: Pass the following variable as a keyword arg: x. From version 0.12, the only valid positional argument will be `data`, and passing other arguments without an explicit keyword will result in an error or misinterpretation.\n",
            "  FutureWarning\n"
          ]
        },
        {
          "output_type": "execute_result",
          "data": {
            "text/plain": [
              "<matplotlib.axes._subplots.AxesSubplot at 0x7f8c9851c1d0>"
            ]
          },
          "metadata": {},
          "execution_count": 90
        },
        {
          "output_type": "display_data",
          "data": {
            "image/png": "[encoded data removed]",
            "text/plain": [
              "<Figure size 432x288 with 1 Axes>"
            ]
          },
          "metadata": {
            "needs_background": "light"
          }
        }
      ]
    },
    {
      "cell_type": "code",
      "metadata": {
        "colab": {
          "base_uri": "https://localhost:8080/"
        },
        "id": "1GFANvM96-Hl",
        "outputId": "541b0e05-0169-4c76-c785-5f1ff9d644c7"
      },
      "source": [
        "#Classes are unbalanced\n",
        "data['y'].value_counts()"
      ],
      "execution_count": 91,
      "outputs": [
        {
          "output_type": "execute_result",
          "data": {
            "text/plain": [
              "0    36548\n",
              "1     4640\n",
              "Name: y, dtype: int64"
            ]
          },
          "metadata": {},
          "execution_count": 91
        }
      ]
    },
    {
      "cell_type": "code",
      "metadata": {
        "id": "SL6khn9BPm11"
      },
      "source": [
        "#Y is determined to be the output variable."
      ],
      "execution_count": 92,
      "outputs": []
    },
    {
      "cell_type": "markdown",
      "metadata": {
        "id": "I4a6FlvlC9rw"
      },
      "source": [
        "##Section II : Data Cleaning"
      ]
    },
    {
      "cell_type": "code",
      "metadata": {
        "colab": {
          "base_uri": "https://localhost:8080/",
          "height": 226
        },
        "id": "h7uipeg0OD9T",
        "outputId": "38891a21-1815-4ecc-f237-8e0022336e64"
      },
      "source": [
        "data.head()"
      ],
      "execution_count": 93,
      "outputs": [
        {
          "output_type": "execute_result",
          "data": {
            "text/html": [
              "<div>\n",
              "<style scoped>\n",
              "    .dataframe tbody tr th:only-of-type {\n",
              "        vertical-align: middle;\n",
              "    }\n",
              "\n",
              "    .dataframe tbody tr th {\n",
              "        vertical-align: top;\n",
              "    }\n",
              "\n",
              "    .dataframe thead th {\n",
              "        text-align: right;\n",
              "    }\n",
              "</style>\n",
              "<table border=\"1\" class=\"dataframe\">\n",
              "  <thead>\n",
              "    <tr style=\"text-align: right;\">\n",
              "      <th></th>\n",
              "      <th>age</th>\n",
              "      <th>job</th>\n",
              "      <th>marital</th>\n",
              "      <th>education</th>\n",
              "      <th>default</th>\n",
              "      <th>housing</th>\n",
              "      <th>loan</th>\n",
              "      <th>contact</th>\n",
              "      <th>month</th>\n",
              "      <th>day_of_week</th>\n",
              "      <th>duration</th>\n",
              "      <th>campaign</th>\n",
              "      <th>pdays</th>\n",
              "      <th>previous</th>\n",
              "      <th>poutcome</th>\n",
              "      <th>emp_var_rate</th>\n",
              "      <th>cons_price_idx</th>\n",
              "      <th>cons_conf_idx</th>\n",
              "      <th>euribor3m</th>\n",
              "      <th>nr_employed</th>\n",
              "      <th>y</th>\n",
              "    </tr>\n",
              "  </thead>\n",
              "  <tbody>\n",
              "    <tr>\n",
              "      <th>0</th>\n",
              "      <td>44</td>\n",
              "      <td>blue-collar</td>\n",
              "      <td>married</td>\n",
              "      <td>basic.4y</td>\n",
              "      <td>unknown</td>\n",
              "      <td>yes</td>\n",
              "      <td>no</td>\n",
              "      <td>cellular</td>\n",
              "      <td>aug</td>\n",
              "      <td>thu</td>\n",
              "      <td>210</td>\n",
              "      <td>1</td>\n",
              "      <td>999.0</td>\n",
              "      <td>0</td>\n",
              "      <td>nonexistent</td>\n",
              "      <td>1.4</td>\n",
              "      <td>93.444</td>\n",
              "      <td>-36.1</td>\n",
              "      <td>4.963</td>\n",
              "      <td>5228.1</td>\n",
              "      <td>0</td>\n",
              "    </tr>\n",
              "    <tr>\n",
              "      <th>1</th>\n",
              "      <td>53</td>\n",
              "      <td>technician</td>\n",
              "      <td>married</td>\n",
              "      <td>unknown</td>\n",
              "      <td>no</td>\n",
              "      <td>no</td>\n",
              "      <td>no</td>\n",
              "      <td>cellular</td>\n",
              "      <td>nov</td>\n",
              "      <td>fri</td>\n",
              "      <td>138</td>\n",
              "      <td>1</td>\n",
              "      <td>999.0</td>\n",
              "      <td>0</td>\n",
              "      <td>nonexistent</td>\n",
              "      <td>-0.1</td>\n",
              "      <td>93.200</td>\n",
              "      <td>-42.0</td>\n",
              "      <td>4.021</td>\n",
              "      <td>5195.8</td>\n",
              "      <td>0</td>\n",
              "    </tr>\n",
              "    <tr>\n",
              "      <th>2</th>\n",
              "      <td>28</td>\n",
              "      <td>management</td>\n",
              "      <td>single</td>\n",
              "      <td>university.degree</td>\n",
              "      <td>no</td>\n",
              "      <td>yes</td>\n",
              "      <td>no</td>\n",
              "      <td>cellular</td>\n",
              "      <td>jun</td>\n",
              "      <td>thu</td>\n",
              "      <td>339</td>\n",
              "      <td>3</td>\n",
              "      <td>6.0</td>\n",
              "      <td>2</td>\n",
              "      <td>success</td>\n",
              "      <td>-1.7</td>\n",
              "      <td>94.055</td>\n",
              "      <td>-39.8</td>\n",
              "      <td>0.729</td>\n",
              "      <td>4991.6</td>\n",
              "      <td>1</td>\n",
              "    </tr>\n",
              "    <tr>\n",
              "      <th>3</th>\n",
              "      <td>39</td>\n",
              "      <td>services</td>\n",
              "      <td>married</td>\n",
              "      <td>high.school</td>\n",
              "      <td>no</td>\n",
              "      <td>no</td>\n",
              "      <td>no</td>\n",
              "      <td>cellular</td>\n",
              "      <td>apr</td>\n",
              "      <td>fri</td>\n",
              "      <td>185</td>\n",
              "      <td>2</td>\n",
              "      <td>999.0</td>\n",
              "      <td>0</td>\n",
              "      <td>nonexistent</td>\n",
              "      <td>-1.8</td>\n",
              "      <td>93.075</td>\n",
              "      <td>-47.1</td>\n",
              "      <td>1.405</td>\n",
              "      <td>5099.1</td>\n",
              "      <td>0</td>\n",
              "    </tr>\n",
              "    <tr>\n",
              "      <th>4</th>\n",
              "      <td>55</td>\n",
              "      <td>retired</td>\n",
              "      <td>married</td>\n",
              "      <td>basic.4y</td>\n",
              "      <td>no</td>\n",
              "      <td>yes</td>\n",
              "      <td>no</td>\n",
              "      <td>cellular</td>\n",
              "      <td>aug</td>\n",
              "      <td>fri</td>\n",
              "      <td>137</td>\n",
              "      <td>1</td>\n",
              "      <td>3.0</td>\n",
              "      <td>1</td>\n",
              "      <td>success</td>\n",
              "      <td>-2.9</td>\n",
              "      <td>92.201</td>\n",
              "      <td>-31.4</td>\n",
              "      <td>0.869</td>\n",
              "      <td>5076.2</td>\n",
              "      <td>1</td>\n",
              "    </tr>\n",
              "  </tbody>\n",
              "</table>\n",
              "</div>"
            ],
            "text/plain": [
              "  age          job  marital  ... euribor3m nr_employed  y\n",
              "0  44  blue-collar  married  ...     4.963      5228.1  0\n",
              "1  53   technician  married  ...     4.021      5195.8  0\n",
              "2  28   management   single  ...     0.729      4991.6  1\n",
              "3  39     services  married  ...     1.405      5099.1  0\n",
              "4  55      retired  married  ...     0.869      5076.2  1\n",
              "\n",
              "[5 rows x 21 columns]"
            ]
          },
          "metadata": {},
          "execution_count": 93
        }
      ]
    },
    {
      "cell_type": "code",
      "metadata": {
        "colab": {
          "base_uri": "https://localhost:8080/"
        },
        "id": "Yh0xSlF96Ybw",
        "outputId": "18d132af-008a-4aee-a025-6f9bf2a1dfca"
      },
      "source": [
        "data.dtypes"
      ],
      "execution_count": 94,
      "outputs": [
        {
          "output_type": "execute_result",
          "data": {
            "text/plain": [
              "age                object\n",
              "job                object\n",
              "marital            object\n",
              "education          object\n",
              "default            object\n",
              "housing            object\n",
              "loan               object\n",
              "contact            object\n",
              "month              object\n",
              "day_of_week        object\n",
              "duration            int64\n",
              "campaign            int64\n",
              "pdays             float64\n",
              "previous            int64\n",
              "poutcome           object\n",
              "emp_var_rate      float64\n",
              "cons_price_idx    float64\n",
              "cons_conf_idx     float64\n",
              "euribor3m         float64\n",
              "nr_employed       float64\n",
              "y                   int64\n",
              "dtype: object"
            ]
          },
          "metadata": {},
          "execution_count": 94
        }
      ]
    },
    {
      "cell_type": "code",
      "source": [
        "data.housing.value_counts()"
      ],
      "metadata": {
        "colab": {
          "base_uri": "https://localhost:8080/"
        },
        "id": "N6IKITzGPCP5",
        "outputId": "cb35a04c-af66-447e-f285-b8ff9fcf81dd"
      },
      "execution_count": 95,
      "outputs": [
        {
          "output_type": "execute_result",
          "data": {
            "text/plain": [
              "yes        21576\n",
              "no         18622\n",
              "unknown      990\n",
              "Name: housing, dtype: int64"
            ]
          },
          "metadata": {},
          "execution_count": 95
        }
      ]
    },
    {
      "cell_type": "code",
      "source": [
        "data['housing']=data['housing'].replace('unknown','yes')"
      ],
      "metadata": {
        "id": "EJVqOND_Pb8k"
      },
      "execution_count": 96,
      "outputs": []
    },
    {
      "cell_type": "code",
      "source": [
        "data.loan.value_counts()"
      ],
      "metadata": {
        "colab": {
          "base_uri": "https://localhost:8080/"
        },
        "id": "UvYb_nIZPoaS",
        "outputId": "76cfd3d7-ead9-4916-a242-f1592187d12c"
      },
      "execution_count": 97,
      "outputs": [
        {
          "output_type": "execute_result",
          "data": {
            "text/plain": [
              "no         33950\n",
              "yes         6248\n",
              "unknown      990\n",
              "Name: loan, dtype: int64"
            ]
          },
          "metadata": {},
          "execution_count": 97
        }
      ]
    },
    {
      "cell_type": "code",
      "source": [
        "data['loan']=data['loan'].replace('unknown','no')"
      ],
      "metadata": {
        "id": "6HV8sebUPr4x"
      },
      "execution_count": 98,
      "outputs": []
    },
    {
      "cell_type": "code",
      "source": [
        "data.contact.value_counts()"
      ],
      "metadata": {
        "colab": {
          "base_uri": "https://localhost:8080/"
        },
        "id": "d6ekLAMiP7wd",
        "outputId": "a3c53ab6-8e08-4026-c7d7-d74f2286d1d5"
      },
      "execution_count": 99,
      "outputs": [
        {
          "output_type": "execute_result",
          "data": {
            "text/plain": [
              "cellular     26144\n",
              "telephone    15044\n",
              "Name: contact, dtype: int64"
            ]
          },
          "metadata": {},
          "execution_count": 99
        }
      ]
    },
    {
      "cell_type": "code",
      "source": [
        "data.month.value_counts()\n"
      ],
      "metadata": {
        "colab": {
          "base_uri": "https://localhost:8080/"
        },
        "id": "wIncBYNXP7nO",
        "outputId": "359a05f3-227d-47ba-e99e-ca2a7f0f28c8"
      },
      "execution_count": 100,
      "outputs": [
        {
          "output_type": "execute_result",
          "data": {
            "text/plain": [
              "may    13769\n",
              "jul     7174\n",
              "aug     6178\n",
              "jun     5318\n",
              "nov     4101\n",
              "apr     2632\n",
              "oct      718\n",
              "sep      570\n",
              "mar      546\n",
              "dec      182\n",
              "Name: month, dtype: int64"
            ]
          },
          "metadata": {},
          "execution_count": 100
        }
      ]
    },
    {
      "cell_type": "code",
      "source": [
        "data.day_of_week.value_counts()"
      ],
      "metadata": {
        "colab": {
          "base_uri": "https://localhost:8080/"
        },
        "id": "prrj5jUuP7fS",
        "outputId": "d662ddae-47a3-4da2-d3bf-fa94621bb930"
      },
      "execution_count": 101,
      "outputs": [
        {
          "output_type": "execute_result",
          "data": {
            "text/plain": [
              "thu    8623\n",
              "mon    8514\n",
              "wed    8134\n",
              "tue    8090\n",
              "fri    7827\n",
              "Name: day_of_week, dtype: int64"
            ]
          },
          "metadata": {},
          "execution_count": 101
        }
      ]
    },
    {
      "cell_type": "code",
      "source": [
        "# check the osition of all the age range value \n",
        "import re\n",
        "s=\"\"\n",
        "i=-1\n",
        "for ag in data.age:\n",
        "  i+=1\n",
        "  a=re.search(\"\\d\\d-\\d\\d\", str(ag))\n",
        "  if a!=None:\n",
        "    print(a)\n",
        "    print(i)"
      ],
      "metadata": {
        "colab": {
          "base_uri": "https://localhost:8080/"
        },
        "id": "VRnGW8c0P7Wr",
        "outputId": "208aa323-000b-440e-b99d-57422352c0e1"
      },
      "execution_count": 102,
      "outputs": [
        {
          "output_type": "stream",
          "name": "stdout",
          "text": [
            "<re.Match object; span=(0, 5), match='35-30'>\n",
            "74\n",
            "<re.Match object; span=(0, 5), match='30-35'>\n",
            "149\n",
            "<re.Match object; span=(0, 5), match='25-30'>\n",
            "480\n",
            "<re.Match object; span=(0, 5), match='18-25'>\n",
            "858\n",
            "<re.Match object; span=(0, 5), match='30-32'>\n",
            "967\n",
            "<re.Match object; span=(0, 5), match='50-55'>\n",
            "1085\n",
            "<re.Match object; span=(0, 5), match='30-35'>\n",
            "1457\n",
            "<re.Match object; span=(0, 5), match='30-35'>\n",
            "2571\n",
            "<re.Match object; span=(0, 5), match='45-50'>\n",
            "6475\n",
            "<re.Match object; span=(0, 5), match='20-25'>\n",
            "6987\n",
            "<re.Match object; span=(0, 5), match='20-40'>\n",
            "7190\n",
            "<re.Match object; span=(0, 5), match='35-40'>\n",
            "9832\n",
            "<re.Match object; span=(0, 5), match='30-40'>\n",
            "28550\n"
          ]
        }
      ]
    },
    {
      "cell_type": "code",
      "source": [
        "data['age'].unique()"
      ],
      "metadata": {
        "colab": {
          "base_uri": "https://localhost:8080/"
        },
        "id": "Q44twU1GQ3lp",
        "outputId": "c184fb96-0253-4c82-fdf9-0e52375cbcd9"
      },
      "execution_count": 103,
      "outputs": [
        {
          "output_type": "execute_result",
          "data": {
            "text/plain": [
              "array(['44', '53', '28', '39', '55', '30', '37', '36', '27', '34', '41',\n",
              "       '33', '26', '52', '35', '40', '32', '49', '38', '47', '46', '29',\n",
              "       '54', '42', '72', '48', '43', '56', '31', '24', '68', '59', '50',\n",
              "       '45', '35-30', '25', '57', '63', '58', '60', '30-35', '64', '51',\n",
              "       '23', '20', '74', '80', '61', '25-30', '62', '75', '21', '82',\n",
              "       '77', '18-25', '30-32', '70', '50-55', '76', '73', '66', '22',\n",
              "       '71', '19', '79', '88', '65', '67', '81', '18', '84', '69', '98',\n",
              "       '85', '83', '78', '92', '45-50', '20-25', '20-40', '35-40', '86',\n",
              "       '94', '17', '91', '89', '87', '95', '30-40', 56, 39, 30, 53, 37,\n",
              "       22, 45, 31, 24, 50, 58, 33, 27, 28, 32, 51, 41, 49, 43, 44, 35, 29,\n",
              "       26, 57, 25, 42, 48, 46, 67, 38, 34, 54, 40, 23, 47, 62, 75, 55, 36,\n",
              "       52, 59, 78, 70, 60, 20, 66, 61, 21, 88, 18, 68, 71, 73, 80, 79, 63,\n",
              "       76, 83, 65, 19, 86, 17, 72, 69, 81, 64, 77, 74, 85, 82],\n",
              "      dtype=object)"
            ]
          },
          "metadata": {},
          "execution_count": 103
        }
      ]
    },
    {
      "cell_type": "code",
      "source": [
        "# replacing all the age range with theire respective mean value\n",
        "data['age']=data['age'].replace(['35-30'],33)\n",
        "data['age']=data['age'].replace(['30-35'],33)\n",
        "data['age']=data['age'].replace(['25-30'],28)\n",
        "data['age']=data['age'].replace(['18-25'],22)\n",
        "data['age']=data['age'].replace(['30-32'],31)\n",
        "data['age']=data['age'].replace(['50-55'],53)\n",
        "data['age']=data['age'].replace(['50-55'],53)\n",
        "data['age']=data['age'].replace(['45-50'],48)\n",
        "data['age']=data['age'].replace(['20-25'],23)\n",
        "data['age']=data['age'].replace(['20-40'],30)\n",
        "data['age']=data['age'].replace(['35-40'],38)\n",
        "data['age']=data['age'].replace(['30-40'],33)"
      ],
      "metadata": {
        "id": "QNzgJR8PRb4t"
      },
      "execution_count": 104,
      "outputs": []
    },
    {
      "cell_type": "code",
      "source": [
        "data['age']=data['age'].apply(pd.to_numeric)"
      ],
      "metadata": {
        "id": "0koVHhb0R_lt"
      },
      "execution_count": 105,
      "outputs": []
    },
    {
      "cell_type": "code",
      "metadata": {
        "colab": {
          "base_uri": "https://localhost:8080/",
          "height": 320
        },
        "id": "7bjHaBdWNsQo",
        "outputId": "d050e8fb-4e94-4a98-f08e-fdc4d6ce6b11"
      },
      "source": [
        "data.describe()"
      ],
      "execution_count": 106,
      "outputs": [
        {
          "output_type": "execute_result",
          "data": {
            "text/html": [
              "<div>\n",
              "<style scoped>\n",
              "    .dataframe tbody tr th:only-of-type {\n",
              "        vertical-align: middle;\n",
              "    }\n",
              "\n",
              "    .dataframe tbody tr th {\n",
              "        vertical-align: top;\n",
              "    }\n",
              "\n",
              "    .dataframe thead th {\n",
              "        text-align: right;\n",
              "    }\n",
              "</style>\n",
              "<table border=\"1\" class=\"dataframe\">\n",
              "  <thead>\n",
              "    <tr style=\"text-align: right;\">\n",
              "      <th></th>\n",
              "      <th>age</th>\n",
              "      <th>duration</th>\n",
              "      <th>campaign</th>\n",
              "      <th>pdays</th>\n",
              "      <th>previous</th>\n",
              "      <th>emp_var_rate</th>\n",
              "      <th>cons_price_idx</th>\n",
              "      <th>cons_conf_idx</th>\n",
              "      <th>euribor3m</th>\n",
              "      <th>nr_employed</th>\n",
              "      <th>y</th>\n",
              "    </tr>\n",
              "  </thead>\n",
              "  <tbody>\n",
              "    <tr>\n",
              "      <th>count</th>\n",
              "      <td>41188.000000</td>\n",
              "      <td>41188.000000</td>\n",
              "      <td>41188.000000</td>\n",
              "      <td>41188.000000</td>\n",
              "      <td>41188.000000</td>\n",
              "      <td>41188.000000</td>\n",
              "      <td>41188.000000</td>\n",
              "      <td>41188.000000</td>\n",
              "      <td>41188.000000</td>\n",
              "      <td>41188.000000</td>\n",
              "      <td>41188.000000</td>\n",
              "    </tr>\n",
              "    <tr>\n",
              "      <th>mean</th>\n",
              "      <td>40.023696</td>\n",
              "      <td>258.285010</td>\n",
              "      <td>2.567593</td>\n",
              "      <td>963.568005</td>\n",
              "      <td>0.172963</td>\n",
              "      <td>0.081886</td>\n",
              "      <td>93.575664</td>\n",
              "      <td>-40.502600</td>\n",
              "      <td>3.621291</td>\n",
              "      <td>5167.035911</td>\n",
              "      <td>0.112654</td>\n",
              "    </tr>\n",
              "    <tr>\n",
              "      <th>std</th>\n",
              "      <td>10.421378</td>\n",
              "      <td>259.279249</td>\n",
              "      <td>2.770014</td>\n",
              "      <td>211.772296</td>\n",
              "      <td>0.494901</td>\n",
              "      <td>1.570960</td>\n",
              "      <td>0.578840</td>\n",
              "      <td>4.628198</td>\n",
              "      <td>1.734447</td>\n",
              "      <td>72.251528</td>\n",
              "      <td>0.316173</td>\n",
              "    </tr>\n",
              "    <tr>\n",
              "      <th>min</th>\n",
              "      <td>17.000000</td>\n",
              "      <td>0.000000</td>\n",
              "      <td>1.000000</td>\n",
              "      <td>0.000000</td>\n",
              "      <td>0.000000</td>\n",
              "      <td>-3.400000</td>\n",
              "      <td>92.201000</td>\n",
              "      <td>-50.800000</td>\n",
              "      <td>0.634000</td>\n",
              "      <td>4963.600000</td>\n",
              "      <td>0.000000</td>\n",
              "    </tr>\n",
              "    <tr>\n",
              "      <th>25%</th>\n",
              "      <td>32.000000</td>\n",
              "      <td>102.000000</td>\n",
              "      <td>1.000000</td>\n",
              "      <td>999.000000</td>\n",
              "      <td>0.000000</td>\n",
              "      <td>-1.800000</td>\n",
              "      <td>93.075000</td>\n",
              "      <td>-42.700000</td>\n",
              "      <td>1.344000</td>\n",
              "      <td>5099.100000</td>\n",
              "      <td>0.000000</td>\n",
              "    </tr>\n",
              "    <tr>\n",
              "      <th>50%</th>\n",
              "      <td>38.000000</td>\n",
              "      <td>180.000000</td>\n",
              "      <td>2.000000</td>\n",
              "      <td>999.000000</td>\n",
              "      <td>0.000000</td>\n",
              "      <td>1.100000</td>\n",
              "      <td>93.749000</td>\n",
              "      <td>-41.800000</td>\n",
              "      <td>4.857000</td>\n",
              "      <td>5191.000000</td>\n",
              "      <td>0.000000</td>\n",
              "    </tr>\n",
              "    <tr>\n",
              "      <th>75%</th>\n",
              "      <td>47.000000</td>\n",
              "      <td>319.000000</td>\n",
              "      <td>3.000000</td>\n",
              "      <td>999.000000</td>\n",
              "      <td>0.000000</td>\n",
              "      <td>1.400000</td>\n",
              "      <td>93.994000</td>\n",
              "      <td>-36.400000</td>\n",
              "      <td>4.961000</td>\n",
              "      <td>5228.100000</td>\n",
              "      <td>0.000000</td>\n",
              "    </tr>\n",
              "    <tr>\n",
              "      <th>max</th>\n",
              "      <td>98.000000</td>\n",
              "      <td>4918.000000</td>\n",
              "      <td>56.000000</td>\n",
              "      <td>9999.000000</td>\n",
              "      <td>7.000000</td>\n",
              "      <td>1.400000</td>\n",
              "      <td>94.767000</td>\n",
              "      <td>-26.900000</td>\n",
              "      <td>5.045000</td>\n",
              "      <td>5228.100000</td>\n",
              "      <td>1.000000</td>\n",
              "    </tr>\n",
              "  </tbody>\n",
              "</table>\n",
              "</div>"
            ],
            "text/plain": [
              "                age      duration  ...   nr_employed             y\n",
              "count  41188.000000  41188.000000  ...  41188.000000  41188.000000\n",
              "mean      40.023696    258.285010  ...   5167.035911      0.112654\n",
              "std       10.421378    259.279249  ...     72.251528      0.316173\n",
              "min       17.000000      0.000000  ...   4963.600000      0.000000\n",
              "25%       32.000000    102.000000  ...   5099.100000      0.000000\n",
              "50%       38.000000    180.000000  ...   5191.000000      0.000000\n",
              "75%       47.000000    319.000000  ...   5228.100000      0.000000\n",
              "max       98.000000   4918.000000  ...   5228.100000      1.000000\n",
              "\n",
              "[8 rows x 11 columns]"
            ]
          },
          "metadata": {},
          "execution_count": 106
        }
      ]
    },
    {
      "cell_type": "code",
      "source": [
        "data.dtypes"
      ],
      "metadata": {
        "colab": {
          "base_uri": "https://localhost:8080/"
        },
        "id": "pA-4SgEiSXim",
        "outputId": "c0a4fcbd-b8c4-44ef-e92e-8f209870ef94"
      },
      "execution_count": 107,
      "outputs": [
        {
          "output_type": "execute_result",
          "data": {
            "text/plain": [
              "age                 int64\n",
              "job                object\n",
              "marital            object\n",
              "education          object\n",
              "default            object\n",
              "housing            object\n",
              "loan               object\n",
              "contact            object\n",
              "month              object\n",
              "day_of_week        object\n",
              "duration            int64\n",
              "campaign            int64\n",
              "pdays             float64\n",
              "previous            int64\n",
              "poutcome           object\n",
              "emp_var_rate      float64\n",
              "cons_price_idx    float64\n",
              "cons_conf_idx     float64\n",
              "euribor3m         float64\n",
              "nr_employed       float64\n",
              "y                   int64\n",
              "dtype: object"
            ]
          },
          "metadata": {},
          "execution_count": 107
        }
      ]
    },
    {
      "cell_type": "code",
      "metadata": {
        "colab": {
          "base_uri": "https://localhost:8080/"
        },
        "id": "hObyMWEmC9a4",
        "outputId": "8602fecd-d8be-4817-aa7e-c4c797e2b0a6"
      },
      "source": [
        "missing_value= data.isna().sum()\n",
        "missing_value"
      ],
      "execution_count": 108,
      "outputs": [
        {
          "output_type": "execute_result",
          "data": {
            "text/plain": [
              "age               0\n",
              "job               0\n",
              "marital           0\n",
              "education         0\n",
              "default           0\n",
              "housing           0\n",
              "loan              0\n",
              "contact           0\n",
              "month             0\n",
              "day_of_week       0\n",
              "duration          0\n",
              "campaign          0\n",
              "pdays             0\n",
              "previous          0\n",
              "poutcome          0\n",
              "emp_var_rate      0\n",
              "cons_price_idx    0\n",
              "cons_conf_idx     0\n",
              "euribor3m         0\n",
              "nr_employed       0\n",
              "y                 0\n",
              "dtype: int64"
            ]
          },
          "metadata": {},
          "execution_count": 108
        }
      ]
    },
    {
      "cell_type": "markdown",
      "metadata": {
        "id": "QbrE--RfQQh4"
      },
      "source": [
        "##Section III : Exploring data with Group by"
      ]
    },
    {
      "cell_type": "code",
      "metadata": {
        "id": "86LVWvBGQSpx",
        "colab": {
          "base_uri": "https://localhost:8080/"
        },
        "outputId": "595f84f0-fa78-40f4-af96-10ff192d8c2d"
      },
      "source": [
        "#Groupby function'\n",
        "#I : y\n",
        "data.groupby('y').y.count()"
      ],
      "execution_count": 109,
      "outputs": [
        {
          "output_type": "execute_result",
          "data": {
            "text/plain": [
              "y\n",
              "0    36548\n",
              "1     4640\n",
              "Name: y, dtype: int64"
            ]
          },
          "metadata": {},
          "execution_count": 109
        }
      ]
    },
    {
      "cell_type": "code",
      "metadata": {
        "colab": {
          "base_uri": "https://localhost:8080/"
        },
        "id": "hQg-q7ma9dBB",
        "outputId": "65f28e33-8cee-4316-c54a-8ac9651cf623"
      },
      "source": [
        "#II :job \n",
        "data['job'].value_counts()"
      ],
      "execution_count": 110,
      "outputs": [
        {
          "output_type": "execute_result",
          "data": {
            "text/plain": [
              "admin.           10420\n",
              "blue-collar       9253\n",
              "technician        6742\n",
              "services          3966\n",
              "management        2923\n",
              "retired           1717\n",
              "entrepreneur      1456\n",
              "self-employed     1421\n",
              "housemaid         1059\n",
              "unemployed        1014\n",
              "student            873\n",
              "unknown            329\n",
              "SERVICES             3\n",
              "RETIRED              3\n",
              "ADMIN.               2\n",
              "STUDENT              2\n",
              "UNKNOWN              1\n",
              "TECHNICIAN           1\n",
              "BLUE-COLLAR          1\n",
              "MANAGEMENT           1\n",
              "HOUSEMAID            1\n",
              "Name: job, dtype: int64"
            ]
          },
          "metadata": {},
          "execution_count": 110
        }
      ]
    },
    {
      "cell_type": "code",
      "source": [
        "data['job']=data['job'].replace('ADMIN.','admin.')\n",
        "data['job']=data['job'].replace('BLUE-COLLAR','blue-collar')\n",
        "data['job']=data['job'].replace('HOUSEMAID','housemaid')\n",
        "data['job']=data['job'].replace('MANAGEMENT','management')\n",
        "data['job']=data['job'].replace('RETIRED','services')\n",
        "data['job']=data['job'].replace('SERVICES','services')\n",
        "data['job']=data['job'].replace('STUDENT','student')\n",
        "data['job']=data['job'].replace('TECHNICIAN','technician')\n",
        "data['job']=data['job'].replace('entrepreneur',8)\n",
        "data['job']=data['job'].replace('self-employed',9)\n",
        "data['job']=data['job'].replace('unemployed',10)\n",
        "data['job']=data['job'].replace('unknown','UNKNOWN')\n",
        "data['job']=data['job'].replace('UNKNOWN','admin.')"
      ],
      "metadata": {
        "id": "MDAj-QY3JWeN"
      },
      "execution_count": 111,
      "outputs": []
    },
    {
      "cell_type": "code",
      "source": [
        ""
      ],
      "metadata": {
        "id": "M-NNAE9IKohA"
      },
      "execution_count": 111,
      "outputs": []
    },
    {
      "cell_type": "code",
      "metadata": {
        "colab": {
          "base_uri": "https://localhost:8080/"
        },
        "id": "nQjm9MBA9f0X",
        "outputId": "00ceea3f-b047-4d2b-f3ee-e0f927c737c2"
      },
      "source": [
        "#III : marital\n",
        "data.groupby('marital').marital.count()\n"
      ],
      "execution_count": 112,
      "outputs": [
        {
          "output_type": "execute_result",
          "data": {
            "text/plain": [
              "marital\n",
              "D               4\n",
              "M               5\n",
              "S               3\n",
              "divorced     4608\n",
              "married     24923\n",
              "single      11565\n",
              "unknown        80\n",
              "Name: marital, dtype: int64"
            ]
          },
          "metadata": {},
          "execution_count": 112
        }
      ]
    },
    {
      "cell_type": "code",
      "source": [
        "data['marital']=data['marital'].replace('D','divorced')\n",
        "data['marital']=data['marital'].replace('M','married')\n",
        "data['marital']=data['marital'].replace('S','single')\n",
        "data['marital']=data['marital'].replace('unknown','married')"
      ],
      "metadata": {
        "id": "ovXdJGdfMHwM"
      },
      "execution_count": 113,
      "outputs": []
    },
    {
      "cell_type": "code",
      "metadata": {
        "colab": {
          "base_uri": "https://localhost:8080/"
        },
        "id": "6HHL1-vQ9fhC",
        "outputId": "34ff8ac5-df37-4acd-c5e1-1c99eda16545"
      },
      "source": [
        "#IV : education\n",
        "data.groupby('education').education.count()"
      ],
      "execution_count": 114,
      "outputs": [
        {
          "output_type": "execute_result",
          "data": {
            "text/plain": [
              "education\n",
              "basic-4y                  12\n",
              "basic-6y                   6\n",
              "basic-9y                  10\n",
              "basic.4y                4164\n",
              "basic.6y                2286\n",
              "basic.9y                6035\n",
              "high.school             9515\n",
              "illiterate                18\n",
              "professional.course     5243\n",
              "university.degree      12168\n",
              "unknown                 1731\n",
              "Name: education, dtype: int64"
            ]
          },
          "metadata": {},
          "execution_count": 114
        }
      ]
    },
    {
      "cell_type": "code",
      "source": [
        "data['education']=data['education'].replace('unknown','university.degree')"
      ],
      "metadata": {
        "id": "6LvKrNFHM2ym"
      },
      "execution_count": 115,
      "outputs": []
    },
    {
      "cell_type": "code",
      "source": [
        "data.groupby('default').default.count()"
      ],
      "metadata": {
        "colab": {
          "base_uri": "https://localhost:8080/"
        },
        "id": "BhQB0kCgON2m",
        "outputId": "5cff9bc1-dfe7-4936-9925-d7b0ef68a755"
      },
      "execution_count": 116,
      "outputs": [
        {
          "output_type": "execute_result",
          "data": {
            "text/plain": [
              "default\n",
              "no         32588\n",
              "unknown     8597\n",
              "yes            3\n",
              "Name: default, dtype: int64"
            ]
          },
          "metadata": {},
          "execution_count": 116
        }
      ]
    },
    {
      "cell_type": "code",
      "source": [
        "data['default']=data['default'].replace('unknown','no')"
      ],
      "metadata": {
        "id": "6Mc4iTsHOm9J"
      },
      "execution_count": 117,
      "outputs": []
    },
    {
      "cell_type": "markdown",
      "source": [
        "**Section III : Exploratory Data Analysis**"
      ],
      "metadata": {
        "id": "GBqAn6OAVQtZ"
      }
    },
    {
      "cell_type": "code",
      "source": [
        "import matplotlib.pyplot as plt\n",
        "import numpy as np\n",
        "import scipy.stats as stats\n",
        "import pandas as pd\n",
        "import numpy as np\n",
        "import seaborn as sns\n"
      ],
      "metadata": {
        "id": "lH9EoYZzVT7x"
      },
      "execution_count": 118,
      "outputs": []
    },
    {
      "cell_type": "code",
      "source": [
        "data_b=['job','marital','education','default','loan','contact','month','day_of_week','poutcome']\n",
        "for col in data_b:\n",
        "  plt.figure(figsize=(5,5))\n",
        "  sns.barplot(data[col].value_counts().values,data[col].value_counts().index)\n",
        "  plt.title(col)\n",
        "plt.show()"
      ],
      "metadata": {
        "colab": {
          "base_uri": "https://localhost:8080/",
          "height": 1000
        },
        "id": "S9RtSAX3w78G",
        "outputId": "3fe7ee21-17e6-48d7-bb3e-310ed9874c40"
      },
      "execution_count": 142,
      "outputs": [
        {
          "output_type": "stream",
          "name": "stderr",
          "text": [
            "/usr/local/lib/python3.7/dist-packages/seaborn/_decorators.py:43: FutureWarning: Pass the following variables as keyword args: x, y. From version 0.12, the only valid positional argument will be `data`, and passing other arguments without an explicit keyword will result in an error or misinterpretation.\n",
            "  FutureWarning\n",
            "/usr/local/lib/python3.7/dist-packages/seaborn/_decorators.py:43: FutureWarning: Pass the following variables as keyword args: x, y. From version 0.12, the only valid positional argument will be `data`, and passing other arguments without an explicit keyword will result in an error or misinterpretation.\n",
            "  FutureWarning\n",
            "/usr/local/lib/python3.7/dist-packages/seaborn/_decorators.py:43: FutureWarning: Pass the following variables as keyword args: x, y. From version 0.12, the only valid positional argument will be `data`, and passing other arguments without an explicit keyword will result in an error or misinterpretation.\n",
            "  FutureWarning\n",
            "/usr/local/lib/python3.7/dist-packages/seaborn/_decorators.py:43: FutureWarning: Pass the following variables as keyword args: x, y. From version 0.12, the only valid positional argument will be `data`, and passing other arguments without an explicit keyword will result in an error or misinterpretation.\n",
            "  FutureWarning\n",
            "/usr/local/lib/python3.7/dist-packages/seaborn/_decorators.py:43: FutureWarning: Pass the following variables as keyword args: x, y. From version 0.12, the only valid positional argument will be `data`, and passing other arguments without an explicit keyword will result in an error or misinterpretation.\n",
            "  FutureWarning\n",
            "/usr/local/lib/python3.7/dist-packages/seaborn/_decorators.py:43: FutureWarning: Pass the following variables as keyword args: x, y. From version 0.12, the only valid positional argument will be `data`, and passing other arguments without an explicit keyword will result in an error or misinterpretation.\n",
            "  FutureWarning\n",
            "/usr/local/lib/python3.7/dist-packages/seaborn/_decorators.py:43: FutureWarning: Pass the following variables as keyword args: x, y. From version 0.12, the only valid positional argument will be `data`, and passing other arguments without an explicit keyword will result in an error or misinterpretation.\n",
            "  FutureWarning\n",
            "/usr/local/lib/python3.7/dist-packages/seaborn/_decorators.py:43: FutureWarning: Pass the following variables as keyword args: x, y. From version 0.12, the only valid positional argument will be `data`, and passing other arguments without an explicit keyword will result in an error or misinterpretation.\n",
            "  FutureWarning\n",
            "/usr/local/lib/python3.7/dist-packages/seaborn/_decorators.py:43: FutureWarning: Pass the following variables as keyword args: x, y. From version 0.12, the only valid positional argument will be `data`, and passing other arguments without an explicit keyword will result in an error or misinterpretation.\n",
            "  FutureWarning\n"
          ]
        },
        {
          "output_type": "display_data",
          "data": {
            "image/png": "[encoded data removed]",
            "text/plain": [
              "<Figure size 360x360 with 1 Axes>"
            ]
          },
          "metadata": {
            "needs_background": "light"
          }
        },
        {
          "output_type": "display_data",
          "data": {
            "image/png": "[encoded data removed]",
            "text/plain": [
              "<Figure size 360x360 with 1 Axes>"
            ]
          },
          "metadata": {
            "needs_background": "light"
          }
        },
        {
          "output_type": "display_data",
          "data": {
            "image/png": "[encoded data removed]",
            "text/plain": [
              "<Figure size 360x360 with 1 Axes>"
            ]
          },
          "metadata": {
            "needs_background": "light"
          }
        },
        {
          "output_type": "display_data",
          "data": {
            "image/png": "[encoded data removed]",
            "text/plain": [
              "<Figure size 360x360 with 1 Axes>"
            ]
          },
          "metadata": {
            "needs_background": "light"
          }
        },
        {
          "output_type": "display_data",
          "data": {
            "image/png": "[encoded data removed]",
            "text/plain": [
              "<Figure size 360x360 with 1 Axes>"
            ]
          },
          "metadata": {
            "needs_background": "light"
          }
        },
        {
          "output_type": "display_data",
          "data": {
            "image/png": "[encoded data removed]",
            "text/plain": [
              "<Figure size 360x360 with 1 Axes>"
            ]
          },
          "metadata": {
            "needs_background": "light"
          }
        },
        {
          "output_type": "display_data",
          "data": {
            "image/png": "[encoded data removed]",
            "text/plain": [
              "<Figure size 360x360 with 1 Axes>"
            ]
          },
          "metadata": {
            "needs_background": "light"
          }
        },
        {
          "output_type": "display_data",
          "data": {
            "image/png": "[encoded data removed]",
            "text/plain": [
              "<Figure size 360x360 with 1 Axes>"
            ]
          },
          "metadata": {
            "needs_background": "light"
          }
        },
        {
          "output_type": "display_data",
          "data": {
            "image/png": "[encoded data removed]",
            "text/plain": [
              "<Figure size 360x360 with 1 Axes>"
            ]
          },
          "metadata": {
            "needs_background": "light"
          }
        }
      ]
    },
    {
      "cell_type": "code",
      "source": [
        "data_corr=data.corr()\n",
        "data_corr"
      ],
      "metadata": {
        "colab": {
          "base_uri": "https://localhost:8080/",
          "height": 414
        },
        "id": "hhh584nEZuQy",
        "outputId": "12f16707-b9de-4429-d70a-dec0341a554d"
      },
      "execution_count": 119,
      "outputs": [
        {
          "output_type": "execute_result",
          "data": {
            "text/html": [
              "<div>\n",
              "<style scoped>\n",
              "    .dataframe tbody tr th:only-of-type {\n",
              "        vertical-align: middle;\n",
              "    }\n",
              "\n",
              "    .dataframe tbody tr th {\n",
              "        vertical-align: top;\n",
              "    }\n",
              "\n",
              "    .dataframe thead th {\n",
              "        text-align: right;\n",
              "    }\n",
              "</style>\n",
              "<table border=\"1\" class=\"dataframe\">\n",
              "  <thead>\n",
              "    <tr style=\"text-align: right;\">\n",
              "      <th></th>\n",
              "      <th>age</th>\n",
              "      <th>duration</th>\n",
              "      <th>campaign</th>\n",
              "      <th>pdays</th>\n",
              "      <th>previous</th>\n",
              "      <th>emp_var_rate</th>\n",
              "      <th>cons_price_idx</th>\n",
              "      <th>cons_conf_idx</th>\n",
              "      <th>euribor3m</th>\n",
              "      <th>nr_employed</th>\n",
              "      <th>y</th>\n",
              "    </tr>\n",
              "  </thead>\n",
              "  <tbody>\n",
              "    <tr>\n",
              "      <th>age</th>\n",
              "      <td>1.000000</td>\n",
              "      <td>-0.000876</td>\n",
              "      <td>0.004597</td>\n",
              "      <td>-0.032926</td>\n",
              "      <td>0.024377</td>\n",
              "      <td>-0.000397</td>\n",
              "      <td>0.000841</td>\n",
              "      <td>0.129348</td>\n",
              "      <td>0.010743</td>\n",
              "      <td>-0.017748</td>\n",
              "      <td>0.030411</td>\n",
              "    </tr>\n",
              "    <tr>\n",
              "      <th>duration</th>\n",
              "      <td>-0.000876</td>\n",
              "      <td>1.000000</td>\n",
              "      <td>-0.071699</td>\n",
              "      <td>-0.044035</td>\n",
              "      <td>0.020640</td>\n",
              "      <td>-0.027968</td>\n",
              "      <td>0.005312</td>\n",
              "      <td>-0.008173</td>\n",
              "      <td>-0.032897</td>\n",
              "      <td>-0.044703</td>\n",
              "      <td>0.405274</td>\n",
              "    </tr>\n",
              "    <tr>\n",
              "      <th>campaign</th>\n",
              "      <td>0.004597</td>\n",
              "      <td>-0.071699</td>\n",
              "      <td>1.000000</td>\n",
              "      <td>0.045353</td>\n",
              "      <td>-0.079141</td>\n",
              "      <td>0.150754</td>\n",
              "      <td>0.127836</td>\n",
              "      <td>-0.013733</td>\n",
              "      <td>0.135133</td>\n",
              "      <td>0.144095</td>\n",
              "      <td>-0.066357</td>\n",
              "    </tr>\n",
              "    <tr>\n",
              "      <th>pdays</th>\n",
              "      <td>-0.032926</td>\n",
              "      <td>-0.044035</td>\n",
              "      <td>0.045353</td>\n",
              "      <td>1.000000</td>\n",
              "      <td>-0.518260</td>\n",
              "      <td>0.241416</td>\n",
              "      <td>0.070331</td>\n",
              "      <td>-0.082578</td>\n",
              "      <td>0.263918</td>\n",
              "      <td>0.331380</td>\n",
              "      <td>-0.288609</td>\n",
              "    </tr>\n",
              "    <tr>\n",
              "      <th>previous</th>\n",
              "      <td>0.024377</td>\n",
              "      <td>0.020640</td>\n",
              "      <td>-0.079141</td>\n",
              "      <td>-0.518260</td>\n",
              "      <td>1.000000</td>\n",
              "      <td>-0.420489</td>\n",
              "      <td>-0.203130</td>\n",
              "      <td>-0.050936</td>\n",
              "      <td>-0.454494</td>\n",
              "      <td>-0.501333</td>\n",
              "      <td>0.230181</td>\n",
              "    </tr>\n",
              "    <tr>\n",
              "      <th>emp_var_rate</th>\n",
              "      <td>-0.000397</td>\n",
              "      <td>-0.027968</td>\n",
              "      <td>0.150754</td>\n",
              "      <td>0.241416</td>\n",
              "      <td>-0.420489</td>\n",
              "      <td>1.000000</td>\n",
              "      <td>0.775334</td>\n",
              "      <td>0.196041</td>\n",
              "      <td>0.972245</td>\n",
              "      <td>0.906970</td>\n",
              "      <td>-0.298334</td>\n",
              "    </tr>\n",
              "    <tr>\n",
              "      <th>cons_price_idx</th>\n",
              "      <td>0.000841</td>\n",
              "      <td>0.005312</td>\n",
              "      <td>0.127836</td>\n",
              "      <td>0.070331</td>\n",
              "      <td>-0.203130</td>\n",
              "      <td>0.775334</td>\n",
              "      <td>1.000000</td>\n",
              "      <td>0.058986</td>\n",
              "      <td>0.688230</td>\n",
              "      <td>0.522034</td>\n",
              "      <td>-0.136211</td>\n",
              "    </tr>\n",
              "    <tr>\n",
              "      <th>cons_conf_idx</th>\n",
              "      <td>0.129348</td>\n",
              "      <td>-0.008173</td>\n",
              "      <td>-0.013733</td>\n",
              "      <td>-0.082578</td>\n",
              "      <td>-0.050936</td>\n",
              "      <td>0.196041</td>\n",
              "      <td>0.058986</td>\n",
              "      <td>1.000000</td>\n",
              "      <td>0.277686</td>\n",
              "      <td>0.100513</td>\n",
              "      <td>0.054878</td>\n",
              "    </tr>\n",
              "    <tr>\n",
              "      <th>euribor3m</th>\n",
              "      <td>0.010743</td>\n",
              "      <td>-0.032897</td>\n",
              "      <td>0.135133</td>\n",
              "      <td>0.263918</td>\n",
              "      <td>-0.454494</td>\n",
              "      <td>0.972245</td>\n",
              "      <td>0.688230</td>\n",
              "      <td>0.277686</td>\n",
              "      <td>1.000000</td>\n",
              "      <td>0.945154</td>\n",
              "      <td>-0.307771</td>\n",
              "    </tr>\n",
              "    <tr>\n",
              "      <th>nr_employed</th>\n",
              "      <td>-0.017748</td>\n",
              "      <td>-0.044703</td>\n",
              "      <td>0.144095</td>\n",
              "      <td>0.331380</td>\n",
              "      <td>-0.501333</td>\n",
              "      <td>0.906970</td>\n",
              "      <td>0.522034</td>\n",
              "      <td>0.100513</td>\n",
              "      <td>0.945154</td>\n",
              "      <td>1.000000</td>\n",
              "      <td>-0.354678</td>\n",
              "    </tr>\n",
              "    <tr>\n",
              "      <th>y</th>\n",
              "      <td>0.030411</td>\n",
              "      <td>0.405274</td>\n",
              "      <td>-0.066357</td>\n",
              "      <td>-0.288609</td>\n",
              "      <td>0.230181</td>\n",
              "      <td>-0.298334</td>\n",
              "      <td>-0.136211</td>\n",
              "      <td>0.054878</td>\n",
              "      <td>-0.307771</td>\n",
              "      <td>-0.354678</td>\n",
              "      <td>1.000000</td>\n",
              "    </tr>\n",
              "  </tbody>\n",
              "</table>\n",
              "</div>"
            ],
            "text/plain": [
              "                     age  duration  campaign  ...  euribor3m  nr_employed         y\n",
              "age             1.000000 -0.000876  0.004597  ...   0.010743    -0.017748  0.030411\n",
              "duration       -0.000876  1.000000 -0.071699  ...  -0.032897    -0.044703  0.405274\n",
              "campaign        0.004597 -0.071699  1.000000  ...   0.135133     0.144095 -0.066357\n",
              "pdays          -0.032926 -0.044035  0.045353  ...   0.263918     0.331380 -0.288609\n",
              "previous        0.024377  0.020640 -0.079141  ...  -0.454494    -0.501333  0.230181\n",
              "emp_var_rate   -0.000397 -0.027968  0.150754  ...   0.972245     0.906970 -0.298334\n",
              "cons_price_idx  0.000841  0.005312  0.127836  ...   0.688230     0.522034 -0.136211\n",
              "cons_conf_idx   0.129348 -0.008173 -0.013733  ...   0.277686     0.100513  0.054878\n",
              "euribor3m       0.010743 -0.032897  0.135133  ...   1.000000     0.945154 -0.307771\n",
              "nr_employed    -0.017748 -0.044703  0.144095  ...   0.945154     1.000000 -0.354678\n",
              "y               0.030411  0.405274 -0.066357  ...  -0.307771    -0.354678  1.000000\n",
              "\n",
              "[11 rows x 11 columns]"
            ]
          },
          "metadata": {},
          "execution_count": 119
        }
      ]
    },
    {
      "cell_type": "code",
      "source": [
        "sns.heatmap(data_corr,annot=True)\n",
        "plt.show"
      ],
      "metadata": {
        "colab": {
          "base_uri": "https://localhost:8080/",
          "height": 349
        },
        "id": "Os1oWhVYc0T7",
        "outputId": "8fe1c60d-83c4-44ee-b9d7-c09cccb4fb77"
      },
      "execution_count": 120,
      "outputs": [
        {
          "output_type": "execute_result",
          "data": {
            "text/plain": [
              "<function matplotlib.pyplot.show>"
            ]
          },
          "metadata": {},
          "execution_count": 120
        },
        {
          "output_type": "display_data",
          "data": {
            "image/png": "[encoded data removed]",
            "text/plain": [
              "<Figure size 432x288 with 2 Axes>"
            ]
          },
          "metadata": {
            "needs_background": "light"
          }
        }
      ]
    },
    {
      "cell_type": "markdown",
      "source": [
        "**Section IV : Categorical Variable Encoding**"
      ],
      "metadata": {
        "id": "VFgmmc_ca-yY"
      }
    },
    {
      "cell_type": "code",
      "source": [
        "data.groupby('marital').marital.count()"
      ],
      "metadata": {
        "colab": {
          "base_uri": "https://localhost:8080/"
        },
        "id": "E903WjutbA3O",
        "outputId": "88b02a61-87fe-40b0-a292-0e3280a490a3"
      },
      "execution_count": 121,
      "outputs": [
        {
          "output_type": "execute_result",
          "data": {
            "text/plain": [
              "marital\n",
              "divorced     4612\n",
              "married     25008\n",
              "single      11568\n",
              "Name: marital, dtype: int64"
            ]
          },
          "metadata": {},
          "execution_count": 121
        }
      ]
    },
    {
      "cell_type": "code",
      "source": [
        "data['marital']=data['marital'].replace('divorced',0)\n",
        "data['marital']=data['marital'].replace('married',1)\n",
        "data['marital']=data['marital'].replace('single',2)"
      ],
      "metadata": {
        "id": "0KQEXDycbx-a"
      },
      "execution_count": 122,
      "outputs": []
    },
    {
      "cell_type": "code",
      "source": [
        "data.marital"
      ],
      "metadata": {
        "colab": {
          "base_uri": "https://localhost:8080/"
        },
        "id": "ZbxdmwdecISs",
        "outputId": "b9bff7a2-7255-4904-ec80-0d56de7aecbe"
      },
      "execution_count": 123,
      "outputs": [
        {
          "output_type": "execute_result",
          "data": {
            "text/plain": [
              "0        1\n",
              "1        1\n",
              "2        2\n",
              "3        1\n",
              "4        1\n",
              "        ..\n",
              "41183    1\n",
              "41184    1\n",
              "41185    2\n",
              "41186    1\n",
              "41187    2\n",
              "Name: marital, Length: 41188, dtype: int64"
            ]
          },
          "metadata": {},
          "execution_count": 123
        }
      ]
    },
    {
      "cell_type": "code",
      "source": [
        "data['job']=data['job'].replace('admin.', 0)\n",
        "data['job']=data['job'].replace('blue-collar',1)\n",
        "data['job']=data['job'].replace('housemaid',2)\n",
        "data['job']=data['job'].replace('management',3)\n",
        "data['job']=data['job'].replace('retired', 4)\n",
        "data['job']=data['job'].replace('services',5)\n",
        "data['job']=data['job'].replace('student',6)\n",
        "data['job']=data['job'].replace('technician',7)\n",
        "data['job']=data['job'].replace('technician',7)"
      ],
      "metadata": {
        "id": "w5dKBWScdSde"
      },
      "execution_count": 124,
      "outputs": []
    },
    {
      "cell_type": "code",
      "source": [
        "data.job"
      ],
      "metadata": {
        "colab": {
          "base_uri": "https://localhost:8080/"
        },
        "id": "JU0WG8PWeHoo",
        "outputId": "f6d45c1a-54f8-4ba6-850c-942912875e7b"
      },
      "execution_count": 125,
      "outputs": [
        {
          "output_type": "execute_result",
          "data": {
            "text/plain": [
              "0        1\n",
              "1        7\n",
              "2        3\n",
              "3        5\n",
              "4        4\n",
              "        ..\n",
              "41183    4\n",
              "41184    2\n",
              "41185    0\n",
              "41186    7\n",
              "41187    6\n",
              "Name: job, Length: 41188, dtype: int64"
            ]
          },
          "metadata": {},
          "execution_count": 125
        }
      ]
    },
    {
      "cell_type": "code",
      "source": [
        "data['housing']=data['housing'].replace('no',0)\n",
        "data['housing']=data['housing'].replace('yes',1)"
      ],
      "metadata": {
        "id": "1rtJOrcreJPV"
      },
      "execution_count": 126,
      "outputs": []
    },
    {
      "cell_type": "code",
      "source": [
        "data.housing"
      ],
      "metadata": {
        "colab": {
          "base_uri": "https://localhost:8080/"
        },
        "id": "dMGNSFWseXz0",
        "outputId": "da7768a2-33a8-4636-e6b8-6f5fb34f6e2a"
      },
      "execution_count": 127,
      "outputs": [
        {
          "output_type": "execute_result",
          "data": {
            "text/plain": [
              "0        1\n",
              "1        0\n",
              "2        1\n",
              "3        0\n",
              "4        1\n",
              "        ..\n",
              "41183    0\n",
              "41184    0\n",
              "41185    1\n",
              "41186    0\n",
              "41187    0\n",
              "Name: housing, Length: 41188, dtype: int64"
            ]
          },
          "metadata": {},
          "execution_count": 127
        }
      ]
    },
    {
      "cell_type": "code",
      "source": [
        "data['loan']=data['loan'].replace('no',0)\n",
        "data['loan']=data['loan'].replace('yes',1)"
      ],
      "metadata": {
        "id": "QiOi62bBedaP"
      },
      "execution_count": 128,
      "outputs": []
    },
    {
      "cell_type": "code",
      "source": [
        "data.loan"
      ],
      "metadata": {
        "colab": {
          "base_uri": "https://localhost:8080/"
        },
        "id": "043G0Wbges1f",
        "outputId": "8cf1fe74-d865-4f61-c06f-b4d6bb657efe"
      },
      "execution_count": 129,
      "outputs": [
        {
          "output_type": "execute_result",
          "data": {
            "text/plain": [
              "0        0\n",
              "1        0\n",
              "2        0\n",
              "3        0\n",
              "4        0\n",
              "        ..\n",
              "41183    1\n",
              "41184    0\n",
              "41185    1\n",
              "41186    1\n",
              "41187    0\n",
              "Name: loan, Length: 41188, dtype: int64"
            ]
          },
          "metadata": {},
          "execution_count": 129
        }
      ]
    },
    {
      "cell_type": "code",
      "source": [
        ""
      ],
      "metadata": {
        "id": "xXSHkLwzet6j"
      },
      "execution_count": 129,
      "outputs": []
    },
    {
      "cell_type": "markdown",
      "source": [
        "**Section V : Preliminary Training**"
      ],
      "metadata": {
        "id": "ofsvwQ3_e1km"
      }
    },
    {
      "cell_type": "code",
      "source": [
        "#Split data\n",
        "from sklearn.model_selection import train_test_split\n",
        "from sklearn.linear_model import LogisticRegression\n",
        "from sklearn.metrics import accuracy_score\n",
        "from sklearn.metrics import classification_report"
      ],
      "metadata": {
        "id": "KWtUZp_Ve27C"
      },
      "execution_count": 130,
      "outputs": []
    },
    {
      "cell_type": "code",
      "source": [
        "X=data.drop(['y'],axis=1)\n",
        "Y=data['y']"
      ],
      "metadata": {
        "id": "i6yGuNzIfXz3"
      },
      "execution_count": 131,
      "outputs": []
    },
    {
      "cell_type": "code",
      "source": [
        "X.drop(['education','default','contact','month','day_of_week','poutcome','job'],axis=1,inplace=True)"
      ],
      "metadata": {
        "id": "5hLo8l7BlnNu"
      },
      "execution_count": 132,
      "outputs": []
    },
    {
      "cell_type": "code",
      "source": [
        "x_train,x_test,y_train,y_test=train_test_split(X,Y,test_size=0.3,random_state=1)"
      ],
      "metadata": {
        "id": "jgW64NHmf0-v"
      },
      "execution_count": 133,
      "outputs": []
    },
    {
      "cell_type": "code",
      "source": [
        "X.head()"
      ],
      "metadata": {
        "colab": {
          "base_uri": "https://localhost:8080/",
          "height": 226
        },
        "id": "GRPxGFvGhBeB",
        "outputId": "52ce47f7-66bd-405d-a017-b08c9a4f212b"
      },
      "execution_count": 134,
      "outputs": [
        {
          "output_type": "execute_result",
          "data": {
            "text/html": [
              "<div>\n",
              "<style scoped>\n",
              "    .dataframe tbody tr th:only-of-type {\n",
              "        vertical-align: middle;\n",
              "    }\n",
              "\n",
              "    .dataframe tbody tr th {\n",
              "        vertical-align: top;\n",
              "    }\n",
              "\n",
              "    .dataframe thead th {\n",
              "        text-align: right;\n",
              "    }\n",
              "</style>\n",
              "<table border=\"1\" class=\"dataframe\">\n",
              "  <thead>\n",
              "    <tr style=\"text-align: right;\">\n",
              "      <th></th>\n",
              "      <th>age</th>\n",
              "      <th>marital</th>\n",
              "      <th>housing</th>\n",
              "      <th>loan</th>\n",
              "      <th>duration</th>\n",
              "      <th>campaign</th>\n",
              "      <th>pdays</th>\n",
              "      <th>previous</th>\n",
              "      <th>emp_var_rate</th>\n",
              "      <th>cons_price_idx</th>\n",
              "      <th>cons_conf_idx</th>\n",
              "      <th>euribor3m</th>\n",
              "      <th>nr_employed</th>\n",
              "    </tr>\n",
              "  </thead>\n",
              "  <tbody>\n",
              "    <tr>\n",
              "      <th>0</th>\n",
              "      <td>44</td>\n",
              "      <td>1</td>\n",
              "      <td>1</td>\n",
              "      <td>0</td>\n",
              "      <td>210</td>\n",
              "      <td>1</td>\n",
              "      <td>999.0</td>\n",
              "      <td>0</td>\n",
              "      <td>1.4</td>\n",
              "      <td>93.444</td>\n",
              "      <td>-36.1</td>\n",
              "      <td>4.963</td>\n",
              "      <td>5228.1</td>\n",
              "    </tr>\n",
              "    <tr>\n",
              "      <th>1</th>\n",
              "      <td>53</td>\n",
              "      <td>1</td>\n",
              "      <td>0</td>\n",
              "      <td>0</td>\n",
              "      <td>138</td>\n",
              "      <td>1</td>\n",
              "      <td>999.0</td>\n",
              "      <td>0</td>\n",
              "      <td>-0.1</td>\n",
              "      <td>93.200</td>\n",
              "      <td>-42.0</td>\n",
              "      <td>4.021</td>\n",
              "      <td>5195.8</td>\n",
              "    </tr>\n",
              "    <tr>\n",
              "      <th>2</th>\n",
              "      <td>28</td>\n",
              "      <td>2</td>\n",
              "      <td>1</td>\n",
              "      <td>0</td>\n",
              "      <td>339</td>\n",
              "      <td>3</td>\n",
              "      <td>6.0</td>\n",
              "      <td>2</td>\n",
              "      <td>-1.7</td>\n",
              "      <td>94.055</td>\n",
              "      <td>-39.8</td>\n",
              "      <td>0.729</td>\n",
              "      <td>4991.6</td>\n",
              "    </tr>\n",
              "    <tr>\n",
              "      <th>3</th>\n",
              "      <td>39</td>\n",
              "      <td>1</td>\n",
              "      <td>0</td>\n",
              "      <td>0</td>\n",
              "      <td>185</td>\n",
              "      <td>2</td>\n",
              "      <td>999.0</td>\n",
              "      <td>0</td>\n",
              "      <td>-1.8</td>\n",
              "      <td>93.075</td>\n",
              "      <td>-47.1</td>\n",
              "      <td>1.405</td>\n",
              "      <td>5099.1</td>\n",
              "    </tr>\n",
              "    <tr>\n",
              "      <th>4</th>\n",
              "      <td>55</td>\n",
              "      <td>1</td>\n",
              "      <td>1</td>\n",
              "      <td>0</td>\n",
              "      <td>137</td>\n",
              "      <td>1</td>\n",
              "      <td>3.0</td>\n",
              "      <td>1</td>\n",
              "      <td>-2.9</td>\n",
              "      <td>92.201</td>\n",
              "      <td>-31.4</td>\n",
              "      <td>0.869</td>\n",
              "      <td>5076.2</td>\n",
              "    </tr>\n",
              "  </tbody>\n",
              "</table>\n",
              "</div>"
            ],
            "text/plain": [
              "   age  marital  housing  ...  cons_conf_idx  euribor3m  nr_employed\n",
              "0   44        1        1  ...          -36.1      4.963       5228.1\n",
              "1   53        1        0  ...          -42.0      4.021       5195.8\n",
              "2   28        2        1  ...          -39.8      0.729       4991.6\n",
              "3   39        1        0  ...          -47.1      1.405       5099.1\n",
              "4   55        1        1  ...          -31.4      0.869       5076.2\n",
              "\n",
              "[5 rows x 13 columns]"
            ]
          },
          "metadata": {},
          "execution_count": 134
        }
      ]
    },
    {
      "cell_type": "code",
      "source": [
        ""
      ],
      "metadata": {
        "id": "U6M9KvyUhSSP"
      },
      "execution_count": 134,
      "outputs": []
    },
    {
      "cell_type": "code",
      "source": [
        "#Create model\n",
        "model=LogisticRegression()\n",
        "model.fit(x_train,y_train)"
      ],
      "metadata": {
        "colab": {
          "base_uri": "https://localhost:8080/"
        },
        "id": "HfRxbTDsgMkB",
        "outputId": "17f7beaa-878d-4251-8ff0-a56b76c57caa"
      },
      "execution_count": 135,
      "outputs": [
        {
          "output_type": "stream",
          "name": "stderr",
          "text": [
            "/usr/local/lib/python3.7/dist-packages/sklearn/linear_model/_logistic.py:818: ConvergenceWarning: lbfgs failed to converge (status=1):\n",
            "STOP: TOTAL NO. of ITERATIONS REACHED LIMIT.\n",
            "\n",
            "Increase the number of iterations (max_iter) or scale the data as shown in:\n",
            "    https://scikit-learn.org/stable/modules/preprocessing.html\n",
            "Please also refer to the documentation for alternative solver options:\n",
            "    https://scikit-learn.org/stable/modules/linear_model.html#logistic-regression\n",
            "  extra_warning_msg=_LOGISTIC_SOLVER_CONVERGENCE_MSG,\n"
          ]
        },
        {
          "output_type": "execute_result",
          "data": {
            "text/plain": [
              "LogisticRegression()"
            ]
          },
          "metadata": {},
          "execution_count": 135
        }
      ]
    },
    {
      "cell_type": "markdown",
      "source": [
        "### Model Testing "
      ],
      "metadata": {
        "id": "ywMPEA6Cl4Pu"
      }
    },
    {
      "cell_type": "code",
      "source": [
        "y_pred=model.predict(x_test)"
      ],
      "metadata": {
        "id": "TuHMLnECgc5C"
      },
      "execution_count": 136,
      "outputs": []
    },
    {
      "cell_type": "code",
      "source": [
        "model_test=model.score(x_test,y_test)"
      ],
      "metadata": {
        "id": "qfF_XvyljqpA"
      },
      "execution_count": 137,
      "outputs": []
    },
    {
      "cell_type": "code",
      "source": [
        "print('accuracy score is',model_test)"
      ],
      "metadata": {
        "colab": {
          "base_uri": "https://localhost:8080/"
        },
        "id": "P6k1Mg0ej4BD",
        "outputId": "a64b8a9c-7b45-480d-f7a3-12e50d61775c"
      },
      "execution_count": 138,
      "outputs": [
        {
          "output_type": "stream",
          "name": "stdout",
          "text": [
            "accuracy score is 0.9067734887108522\n"
          ]
        }
      ]
    },
    {
      "cell_type": "code",
      "source": [
        "from sklearn.metrics import confusion_matrix\n",
        "from sklearn.metrics import plot_confusion_matrix"
      ],
      "metadata": {
        "id": "AXHc6tZVj_4t"
      },
      "execution_count": 139,
      "outputs": []
    },
    {
      "cell_type": "code",
      "source": [
        "print(classification_report(y_test,y_pred))"
      ],
      "metadata": {
        "colab": {
          "base_uri": "https://localhost:8080/"
        },
        "id": "fsdsInsckTlb",
        "outputId": "34378518-f7a2-42f9-dbb3-6ae54550cc6d"
      },
      "execution_count": 140,
      "outputs": [
        {
          "output_type": "stream",
          "name": "stdout",
          "text": [
            "              precision    recall  f1-score   support\n",
            "\n",
            "           0       0.92      0.97      0.95     10924\n",
            "           1       0.66      0.40      0.50      1433\n",
            "\n",
            "    accuracy                           0.91     12357\n",
            "   macro avg       0.79      0.69      0.72     12357\n",
            "weighted avg       0.89      0.91      0.90     12357\n",
            "\n"
          ]
        }
      ]
    },
    {
      "cell_type": "markdown",
      "source": [
        "### Additional Metrics"
      ],
      "metadata": {
        "id": "EFEEuuKvmBc2"
      }
    },
    {
      "cell_type": "code",
      "source": [
        "print('confusion_matrix is')\n",
        "print(confusion_matrix(y_test,y_pred))\n",
        "print('accuracy is',model_test)"
      ],
      "metadata": {
        "colab": {
          "base_uri": "https://localhost:8080/"
        },
        "id": "1KB2ebprkej1",
        "outputId": "997e6f70-4e7f-4927-80f0-4dd668242076"
      },
      "execution_count": 141,
      "outputs": [
        {
          "output_type": "stream",
          "name": "stdout",
          "text": [
            "confusion_matrix is\n",
            "[[10637   287]\n",
            " [  865   568]]\n",
            "accuracy is 0.9067734887108522\n"
          ]
        }
      ]
    },
    {
      "cell_type": "code",
      "source": [
        ""
      ],
      "metadata": {
        "id": "JBS8vRLTk_5q"
      },
      "execution_count": 141,
      "outputs": []
    }
  ]
}